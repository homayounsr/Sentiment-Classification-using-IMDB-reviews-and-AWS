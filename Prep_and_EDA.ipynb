{
 "cells": [
  {
   "cell_type": "markdown",
   "id": "9d0e9d1d-09c8-4e14-8e7a-57500333b6eb",
   "metadata": {},
   "source": [
    "#### Importing Libraries"
   ]
  },
  {
   "cell_type": "code",
   "execution_count": 1,
   "id": "0b5d87c4-8822-41d4-8627-1f8d94d31236",
   "metadata": {},
   "outputs": [
    {
     "name": "stdout",
     "output_type": "stream",
     "text": [
      "sagemaker.config INFO - Not applying SDK defaults from location: C:\\ProgramData\\sagemaker\\sagemaker\\config.yaml\n",
      "sagemaker.config INFO - Not applying SDK defaults from location: C:\\Users\\hsohr\\AppData\\Local\\sagemaker\\sagemaker\\config.yaml\n"
     ]
    },
    {
     "name": "stderr",
     "output_type": "stream",
     "text": [
      "[nltk_data] Downloading package punkt to\n",
      "[nltk_data]     C:\\Users\\hsohr\\AppData\\Roaming\\nltk_data...\n",
      "[nltk_data]   Package punkt is already up-to-date!\n",
      "[nltk_data] Downloading package stopwords to\n",
      "[nltk_data]     C:\\Users\\hsohr\\AppData\\Roaming\\nltk_data...\n",
      "[nltk_data]   Package stopwords is already up-to-date!\n"
     ]
    }
   ],
   "source": [
    "import boto3\n",
    "import sagemaker\n",
    "import pandas as pd\n",
    "import numpy as np\n",
    "import botocore\n",
    "import awswrangler as wr\n",
    "import matplotlib.pyplot as plt\n",
    "import nltk\n",
    "import string\n",
    "import re\n",
    "nltk.download('punkt')\n",
    "nltk.download('stopwords')\n",
    "from nltk.corpus import stopwords\n",
    "from nltk.tokenize import word_tokenize\n",
    "from tqdm import tqdm \n",
    "from sagemaker import clarify"
   ]
  },
  {
   "cell_type": "code",
   "execution_count": null,
   "id": "9cc7f92f-ad16-452b-b704-588769926401",
   "metadata": {},
   "outputs": [],
   "source": [
    "#getting bucket name\n",
    "s3 = boto3.client('s3')\n",
    "bucket = s3.list_buckets()\n",
    "bucket_names = [bucket['Name'] for bucket in bucket['Buckets']]\n",
    "\n",
    "for bucket_name in bucket_names:\n",
    "    print(f\"Bucket name: {bucket_name}\")"
   ]
  },
  {
   "cell_type": "code",
   "execution_count": 3,
   "id": "f32e3101-d181-4ea3-a7bb-5126b3066479",
   "metadata": {},
   "outputs": [],
   "source": [
    "# AWS credentials\n",
    "aws_access_key = 'xxx'\n",
    "aws_secret_access_key = 'xxx'\n",
    "aws_region = 'us-east-2'\n",
    "\n",
    "# S3 bucket and file information\n",
    "bucket_name = 'xxx'\n",
    "\n",
    "# Create an S3 client\n",
    "s3 = boto3.client('s3', aws_access_key_id=aws_access_key, aws_secret_access_key=aws_secret_access_key, region_name=aws_region)\n",
    "  "
   ]
  },
  {
   "cell_type": "markdown",
   "id": "28a93270-611e-40aa-9df8-8b7ac9eea4c9",
   "metadata": {},
   "source": [
    "#### 1. Getting raw datafrom from S3"
   ]
  },
  {
   "cell_type": "code",
   "execution_count": 5,
   "id": "126ed17d-bf6a-4925-8768-eaebdb33a913",
   "metadata": {},
   "outputs": [
    {
     "name": "stderr",
     "output_type": "stream",
     "text": [
      "'aws' is not recognized as an internal or external command,\n",
      "operable program or batch file.\n"
     ]
    }
   ],
   "source": [
    "!aws s3 ls s3://bucket_address/Data/IMDB_raw_reviews.csv"
   ]
  },
  {
   "cell_type": "markdown",
   "id": "2a5bff92-2649-4aa9-862e-f0ab181228ee",
   "metadata": {},
   "source": [
    "#### 2. Copy dataset to local notebook"
   ]
  },
  {
   "cell_type": "code",
   "execution_count": null,
   "id": "89d84ae5-4e2e-4f10-aa5e-697de51b9e10",
   "metadata": {},
   "outputs": [],
   "source": [
    "!aws s3 cp s3://bucket_address/Data/IMDB_raw_reviews.csv IMDB_raw_reviews.csv"
   ]
  },
  {
   "cell_type": "markdown",
   "id": "1faf5ea3-148e-441d-91c1-11aceeb9a1e4",
   "metadata": {},
   "source": [
    "#### 3. Load dataset"
   ]
  },
  {
   "cell_type": "code",
   "execution_count": 228,
   "id": "3c5372fe-c74c-4035-8dc9-c911cea570f5",
   "metadata": {},
   "outputs": [
    {
     "data": {
      "text/html": [
       "<div>\n",
       "<style scoped>\n",
       "    .dataframe tbody tr th:only-of-type {\n",
       "        vertical-align: middle;\n",
       "    }\n",
       "\n",
       "    .dataframe tbody tr th {\n",
       "        vertical-align: top;\n",
       "    }\n",
       "\n",
       "    .dataframe thead th {\n",
       "        text-align: right;\n",
       "    }\n",
       "</style>\n",
       "<table border=\"1\" class=\"dataframe\">\n",
       "  <thead>\n",
       "    <tr style=\"text-align: right;\">\n",
       "      <th></th>\n",
       "      <th>review</th>\n",
       "      <th>rate</th>\n",
       "    </tr>\n",
       "  </thead>\n",
       "  <tbody>\n",
       "    <tr>\n",
       "      <th>0</th>\n",
       "      <td>\"Carmencita\" is a short video of a woman danci...</td>\n",
       "      <td>1.0</td>\n",
       "    </tr>\n",
       "    <tr>\n",
       "      <th>1</th>\n",
       "      <td>Like his other work, Autour d'une cabine, Char...</td>\n",
       "      <td>3.0</td>\n",
       "    </tr>\n",
       "    <tr>\n",
       "      <th>2</th>\n",
       "      <td>until this film came along the use of motion p...</td>\n",
       "      <td>NaN</td>\n",
       "    </tr>\n",
       "    <tr>\n",
       "      <th>3</th>\n",
       "      <td>In 1891, Thomas Edison and his staff, led by W...</td>\n",
       "      <td>8.0</td>\n",
       "    </tr>\n",
       "    <tr>\n",
       "      <th>4</th>\n",
       "      <td>James J. Corbett (better known as Gentleman Ji...</td>\n",
       "      <td>7.0</td>\n",
       "    </tr>\n",
       "  </tbody>\n",
       "</table>\n",
       "</div>"
      ],
      "text/plain": [
       "                                              review  rate\n",
       "0  \"Carmencita\" is a short video of a woman danci...   1.0\n",
       "1  Like his other work, Autour d'une cabine, Char...   3.0\n",
       "2  until this film came along the use of motion p...   NaN\n",
       "3  In 1891, Thomas Edison and his staff, led by W...   8.0\n",
       "4  James J. Corbett (better known as Gentleman Ji...   7.0"
      ]
     },
     "execution_count": 228,
     "metadata": {},
     "output_type": "execute_result"
    }
   ],
   "source": [
    "df = pd.read_csv('IMDB_raw_reviews.csv')\n",
    "df.head()"
   ]
  },
  {
   "cell_type": "markdown",
   "id": "4f4eee82-2c71-4a16-91d7-892acb1b5d19",
   "metadata": {},
   "source": [
    "#### 4. Data Preprocessing: labeling and cleaning null values"
   ]
  },
  {
   "cell_type": "code",
   "execution_count": 229,
   "id": "9fe44170-336a-49e4-bcff-7246bb5efc1e",
   "metadata": {},
   "outputs": [
    {
     "data": {
      "text/plain": [
       "6147"
      ]
     },
     "execution_count": 229,
     "metadata": {},
     "output_type": "execute_result"
    }
   ],
   "source": [
    "df['rate'].isna().sum()"
   ]
  },
  {
   "cell_type": "code",
   "execution_count": 230,
   "id": "bd9d0001-3431-455c-8f60-7b59a564bcba",
   "metadata": {},
   "outputs": [],
   "source": [
    "df = df.dropna()"
   ]
  },
  {
   "cell_type": "code",
   "execution_count": 231,
   "id": "d4111c97-02b7-4b45-9eb9-cbea5055368a",
   "metadata": {},
   "outputs": [],
   "source": [
    "# add a new column for labels\n",
    "df['sentiment'] = -999"
   ]
  },
  {
   "cell_type": "code",
   "execution_count": 232,
   "id": "4f95d2fc-01eb-4cfb-9c4c-fda61f24e911",
   "metadata": {},
   "outputs": [],
   "source": [
    "# Iterate through each row to assign sentiments based on ratings\n",
    "for index, row in df.iterrows():\n",
    "    rating = row['rate']\n",
    "    if rating in {1, 2, 3}:\n",
    "        df.loc[index, 'sentiment'] = -1\n",
    "    elif rating in {7, 8, 9, 10}:\n",
    "        df.loc[index, 'sentiment'] = 1\n",
    "    elif rating in {4,5,6}:\n",
    "        df.loc[index, 'sentiment'] = 0"
   ]
  },
  {
   "cell_type": "code",
   "execution_count": 233,
   "id": "87bfdc39-e2be-4702-9464-61c52f246fb1",
   "metadata": {},
   "outputs": [
    {
     "data": {
      "text/html": [
       "<div>\n",
       "<style scoped>\n",
       "    .dataframe tbody tr th:only-of-type {\n",
       "        vertical-align: middle;\n",
       "    }\n",
       "\n",
       "    .dataframe tbody tr th {\n",
       "        vertical-align: top;\n",
       "    }\n",
       "\n",
       "    .dataframe thead th {\n",
       "        text-align: right;\n",
       "    }\n",
       "</style>\n",
       "<table border=\"1\" class=\"dataframe\">\n",
       "  <thead>\n",
       "    <tr style=\"text-align: right;\">\n",
       "      <th></th>\n",
       "      <th>review</th>\n",
       "      <th>rate</th>\n",
       "      <th>sentiment</th>\n",
       "    </tr>\n",
       "  </thead>\n",
       "  <tbody>\n",
       "    <tr>\n",
       "      <th>0</th>\n",
       "      <td>\"Carmencita\" is a short video of a woman danci...</td>\n",
       "      <td>1.0</td>\n",
       "      <td>-1</td>\n",
       "    </tr>\n",
       "    <tr>\n",
       "      <th>1</th>\n",
       "      <td>Like his other work, Autour d'une cabine, Char...</td>\n",
       "      <td>3.0</td>\n",
       "      <td>-1</td>\n",
       "    </tr>\n",
       "    <tr>\n",
       "      <th>3</th>\n",
       "      <td>In 1891, Thomas Edison and his staff, led by W...</td>\n",
       "      <td>8.0</td>\n",
       "      <td>1</td>\n",
       "    </tr>\n",
       "    <tr>\n",
       "      <th>4</th>\n",
       "      <td>James J. Corbett (better known as Gentleman Ji...</td>\n",
       "      <td>7.0</td>\n",
       "      <td>1</td>\n",
       "    </tr>\n",
       "    <tr>\n",
       "      <th>5</th>\n",
       "      <td>In this film, Fred Ott, an employee of Thomas ...</td>\n",
       "      <td>5.0</td>\n",
       "      <td>0</td>\n",
       "    </tr>\n",
       "  </tbody>\n",
       "</table>\n",
       "</div>"
      ],
      "text/plain": [
       "                                              review  rate  sentiment\n",
       "0  \"Carmencita\" is a short video of a woman danci...   1.0         -1\n",
       "1  Like his other work, Autour d'une cabine, Char...   3.0         -1\n",
       "3  In 1891, Thomas Edison and his staff, led by W...   8.0          1\n",
       "4  James J. Corbett (better known as Gentleman Ji...   7.0          1\n",
       "5  In this film, Fred Ott, an employee of Thomas ...   5.0          0"
      ]
     },
     "execution_count": 233,
     "metadata": {},
     "output_type": "execute_result"
    }
   ],
   "source": [
    "df.head()"
   ]
  },
  {
   "cell_type": "code",
   "execution_count": 234,
   "id": "a3071cf8-8d7d-4474-bc52-666ae6724698",
   "metadata": {},
   "outputs": [],
   "source": [
    "df_clean_labeled = df.drop(columns='rate')"
   ]
  },
  {
   "cell_type": "code",
   "execution_count": 235,
   "id": "e5dea51e-f634-4444-97a9-fd62daec9ac7",
   "metadata": {},
   "outputs": [
    {
     "data": {
      "text/html": [
       "<div>\n",
       "<style scoped>\n",
       "    .dataframe tbody tr th:only-of-type {\n",
       "        vertical-align: middle;\n",
       "    }\n",
       "\n",
       "    .dataframe tbody tr th {\n",
       "        vertical-align: top;\n",
       "    }\n",
       "\n",
       "    .dataframe thead th {\n",
       "        text-align: right;\n",
       "    }\n",
       "</style>\n",
       "<table border=\"1\" class=\"dataframe\">\n",
       "  <thead>\n",
       "    <tr style=\"text-align: right;\">\n",
       "      <th></th>\n",
       "      <th>review</th>\n",
       "      <th>sentiment</th>\n",
       "    </tr>\n",
       "  </thead>\n",
       "  <tbody>\n",
       "    <tr>\n",
       "      <th>0</th>\n",
       "      <td>\"Carmencita\" is a short video of a woman danci...</td>\n",
       "      <td>-1</td>\n",
       "    </tr>\n",
       "    <tr>\n",
       "      <th>1</th>\n",
       "      <td>Like his other work, Autour d'une cabine, Char...</td>\n",
       "      <td>-1</td>\n",
       "    </tr>\n",
       "    <tr>\n",
       "      <th>3</th>\n",
       "      <td>In 1891, Thomas Edison and his staff, led by W...</td>\n",
       "      <td>1</td>\n",
       "    </tr>\n",
       "    <tr>\n",
       "      <th>4</th>\n",
       "      <td>James J. Corbett (better known as Gentleman Ji...</td>\n",
       "      <td>1</td>\n",
       "    </tr>\n",
       "    <tr>\n",
       "      <th>5</th>\n",
       "      <td>In this film, Fred Ott, an employee of Thomas ...</td>\n",
       "      <td>0</td>\n",
       "    </tr>\n",
       "    <tr>\n",
       "      <th>...</th>\n",
       "      <td>...</td>\n",
       "      <td>...</td>\n",
       "    </tr>\n",
       "    <tr>\n",
       "      <th>38646</th>\n",
       "      <td>I just watched The Trial of the Catonsville Ni...</td>\n",
       "      <td>1</td>\n",
       "    </tr>\n",
       "    <tr>\n",
       "      <th>38647</th>\n",
       "      <td>TRILOGY OF SWORDSMANSHIP came as a bit of a su...</td>\n",
       "      <td>1</td>\n",
       "    </tr>\n",
       "    <tr>\n",
       "      <th>38648</th>\n",
       "      <td>\"Trinity and Sartana\" was originally released ...</td>\n",
       "      <td>-1</td>\n",
       "    </tr>\n",
       "    <tr>\n",
       "      <th>38649</th>\n",
       "      <td>You will also find my first review for the fil...</td>\n",
       "      <td>0</td>\n",
       "    </tr>\n",
       "    <tr>\n",
       "      <th>38651</th>\n",
       "      <td>A good movie but I didn't find it as good as a...</td>\n",
       "      <td>1</td>\n",
       "    </tr>\n",
       "  </tbody>\n",
       "</table>\n",
       "<p>32505 rows × 2 columns</p>\n",
       "</div>"
      ],
      "text/plain": [
       "                                                  review  sentiment\n",
       "0      \"Carmencita\" is a short video of a woman danci...         -1\n",
       "1      Like his other work, Autour d'une cabine, Char...         -1\n",
       "3      In 1891, Thomas Edison and his staff, led by W...          1\n",
       "4      James J. Corbett (better known as Gentleman Ji...          1\n",
       "5      In this film, Fred Ott, an employee of Thomas ...          0\n",
       "...                                                  ...        ...\n",
       "38646  I just watched The Trial of the Catonsville Ni...          1\n",
       "38647  TRILOGY OF SWORDSMANSHIP came as a bit of a su...          1\n",
       "38648  \"Trinity and Sartana\" was originally released ...         -1\n",
       "38649  You will also find my first review for the fil...          0\n",
       "38651  A good movie but I didn't find it as good as a...          1\n",
       "\n",
       "[32505 rows x 2 columns]"
      ]
     },
     "execution_count": 235,
     "metadata": {},
     "output_type": "execute_result"
    }
   ],
   "source": [
    "df_clean_labeled"
   ]
  },
  {
   "cell_type": "markdown",
   "id": "c2c79eab-22f5-4744-a012-7648e652b65a",
   "metadata": {},
   "source": [
    "#### 4.1 Upload Clean dataset to S3"
   ]
  },
  {
   "cell_type": "code",
   "execution_count": 236,
   "id": "52eebde8-b898-49e5-a42a-49e8f1364947",
   "metadata": {},
   "outputs": [],
   "source": [
    "#Write it to a new CSV\n",
    "df_clean_labeled.to_csv('df_clean_labeled.csv', \n",
    "                      index=False)"
   ]
  },
  {
   "cell_type": "code",
   "execution_count": null,
   "id": "5fdd104a-94c6-4dd7-b15e-4576f63b01e7",
   "metadata": {},
   "outputs": [],
   "source": [
    "#upload new data to s3\n",
    "!aws s3 cp df_clean_labeled.csv s3://bucket_address/Data/"
   ]
  },
  {
   "cell_type": "markdown",
   "id": "85e75025-bfff-483a-9b84-353884ab5d0a",
   "metadata": {},
   "source": [
    "#### 5. EDA\n",
    "* How many reviews per sentiment?"
   ]
  },
  {
   "cell_type": "code",
   "execution_count": 238,
   "id": "29072c21-2742-4569-a7dc-4c23797fe7c5",
   "metadata": {},
   "outputs": [
    {
     "data": {
      "text/html": [
       "<div>\n",
       "<style scoped>\n",
       "    .dataframe tbody tr th:only-of-type {\n",
       "        vertical-align: middle;\n",
       "    }\n",
       "\n",
       "    .dataframe tbody tr th {\n",
       "        vertical-align: top;\n",
       "    }\n",
       "\n",
       "    .dataframe thead th {\n",
       "        text-align: right;\n",
       "    }\n",
       "</style>\n",
       "<table border=\"1\" class=\"dataframe\">\n",
       "  <thead>\n",
       "    <tr style=\"text-align: right;\">\n",
       "      <th></th>\n",
       "      <th>sentiment</th>\n",
       "      <th>review</th>\n",
       "    </tr>\n",
       "  </thead>\n",
       "  <tbody>\n",
       "    <tr>\n",
       "      <th>0</th>\n",
       "      <td>-1</td>\n",
       "      <td>4074</td>\n",
       "    </tr>\n",
       "    <tr>\n",
       "      <th>1</th>\n",
       "      <td>0</td>\n",
       "      <td>13016</td>\n",
       "    </tr>\n",
       "    <tr>\n",
       "      <th>2</th>\n",
       "      <td>1</td>\n",
       "      <td>15415</td>\n",
       "    </tr>\n",
       "  </tbody>\n",
       "</table>\n",
       "</div>"
      ],
      "text/plain": [
       "   sentiment  review\n",
       "0         -1    4074\n",
       "1          0   13016\n",
       "2          1   15415"
      ]
     },
     "execution_count": 238,
     "metadata": {},
     "output_type": "execute_result"
    }
   ],
   "source": [
    "count_reviews_sentiment= df_clean_labeled.groupby(by=['sentiment']).count().reset_index()\n",
    "count_reviews_sentiment"
   ]
  },
  {
   "cell_type": "code",
   "execution_count": 239,
   "id": "b7375858-651c-4d64-914d-c8cbf64a3943",
   "metadata": {},
   "outputs": [
    {
     "data": {
      "image/png": "[encoded data removed]",
      "text/plain": [
       "<Figure size 640x480 with 1 Axes>"
      ]
     },
     "metadata": {},
     "output_type": "display_data"
    }
   ],
   "source": [
    "count_reviews_sentiment_plt = count_reviews_sentiment.plot(kind='bar', x='sentiment', y='review', rot=0)\n",
    "# Do not change the figure name - it is used for grading purposes!\n",
    "plt.savefig('sentiment_per_review.png', dpi=300)\n"
   ]
  },
  {
   "cell_type": "code",
   "execution_count": 240,
   "id": "bb94f7ee-9775-47a1-9c6c-21ee9d32160f",
   "metadata": {},
   "outputs": [
    {
     "name": "stdout",
     "output_type": "stream",
     "text": [
      "\n",
      "The user-provided path count_reviews_sentiment_plt does not exist.\n"
     ]
    }
   ],
   "source": [
    "#store the plot\n",
    "!aws s3 cp count_reviews_sentiment_plt s3://bucket_address/Plots/"
   ]
  },
  {
   "cell_type": "code",
   "execution_count": null,
   "id": "1134c6fa-2814-47c4-be57-42b3c3bae8d0",
   "metadata": {},
   "outputs": [],
   "source": [
    "sess.upload_data(path='sentiment_per_review.png', bucket='bucket_address', key_prefix=\"images\")"
   ]
  },
  {
   "cell_type": "markdown",
   "id": "e30d38e7-5c71-4174-9160-73d18af26272",
   "metadata": {},
   "source": [
    "#### 6. Data Cleaning\n",
    "  1. Remove irrelevant characters, punctuation\n",
    "  2. Tokenization"
   ]
  },
  {
   "cell_type": "code",
   "execution_count": 242,
   "id": "bcb05242-e24e-48ea-a558-a163265c6e0b",
   "metadata": {},
   "outputs": [],
   "source": [
    "#Remove stopwords and punctuations\n",
    "def remove_stopwords_punctuation(text):\n",
    "    stop_words = set(stopwords.words('english'))\n",
    "    word_tokens = word_tokenize(text)\n",
    "    filtered_words = []\n",
    "    for word in word_tokens:\n",
    "        # Remove stopwords and punctuation\n",
    "        if word.lower() not in stop_words and word.lower() not in string.punctuation:\n",
    "            # Remove double quotes\n",
    "            word = re.sub(r'\"', '', word)\n",
    "            # Remove punctuation using regex\n",
    "            word = re.sub(r'[^\\w\\s]', '', word)\n",
    "            filtered_words.append(word)\n",
    "    return ' '.join(filtered_words)\n",
    "    \n",
    "df_clean_labeled['clean_review'] = df_clean_labeled['review'].apply(remove_stopwords_punctuation_quotes)"
   ]
  },
  {
   "cell_type": "code",
   "execution_count": 244,
   "id": "c99e2ee0-231a-43eb-b18e-4cee1e852fa8",
   "metadata": {},
   "outputs": [
    {
     "data": {
      "text/html": [
       "<div>\n",
       "<style scoped>\n",
       "    .dataframe tbody tr th:only-of-type {\n",
       "        vertical-align: middle;\n",
       "    }\n",
       "\n",
       "    .dataframe tbody tr th {\n",
       "        vertical-align: top;\n",
       "    }\n",
       "\n",
       "    .dataframe thead th {\n",
       "        text-align: right;\n",
       "    }\n",
       "</style>\n",
       "<table border=\"1\" class=\"dataframe\">\n",
       "  <thead>\n",
       "    <tr style=\"text-align: right;\">\n",
       "      <th></th>\n",
       "      <th>raw_review</th>\n",
       "      <th>clean_review</th>\n",
       "    </tr>\n",
       "  </thead>\n",
       "  <tbody>\n",
       "    <tr>\n",
       "      <th>0</th>\n",
       "      <td>\"Carmencita\" is a short video of a woman danci...</td>\n",
       "      <td>Carmencita  short video woman dancing obvious...</td>\n",
       "    </tr>\n",
       "    <tr>\n",
       "      <th>1</th>\n",
       "      <td>Like his other work, Autour d'une cabine, Char...</td>\n",
       "      <td>Like work Autour dune cabine CharlesÉmile Reyn...</td>\n",
       "    </tr>\n",
       "    <tr>\n",
       "      <th>2</th>\n",
       "      <td>In 1891, Thomas Edison and his staff, led by W...</td>\n",
       "      <td>1891 Thomas Edison staff led William K L Dicks...</td>\n",
       "    </tr>\n",
       "    <tr>\n",
       "      <th>3</th>\n",
       "      <td>James J. Corbett (better known as Gentleman Ji...</td>\n",
       "      <td>James J Corbett better known Gentleman Jim Cor...</td>\n",
       "    </tr>\n",
       "    <tr>\n",
       "      <th>4</th>\n",
       "      <td>In this film, Fred Ott, an employee of Thomas ...</td>\n",
       "      <td>film Fred Ott employee Thomas Edison takes pin...</td>\n",
       "    </tr>\n",
       "    <tr>\n",
       "      <th>...</th>\n",
       "      <td>...</td>\n",
       "      <td>...</td>\n",
       "    </tr>\n",
       "    <tr>\n",
       "      <th>32500</th>\n",
       "      <td>I just watched The Trial of the Catonsville Ni...</td>\n",
       "      <td>watched Trial Catonsville Nine first time wait...</td>\n",
       "    </tr>\n",
       "    <tr>\n",
       "      <th>32501</th>\n",
       "      <td>TRILOGY OF SWORDSMANSHIP came as a bit of a su...</td>\n",
       "      <td>TRILOGY SWORDSMANSHIP came bit surprise knowin...</td>\n",
       "    </tr>\n",
       "    <tr>\n",
       "      <th>32502</th>\n",
       "      <td>\"Trinity and Sartana\" was originally released ...</td>\n",
       "      <td>Trinity Sartana  originally released back 197...</td>\n",
       "    </tr>\n",
       "    <tr>\n",
       "      <th>32503</th>\n",
       "      <td>You will also find my first review for the fil...</td>\n",
       "      <td>also find first review film  Solange leben mir...</td>\n",
       "    </tr>\n",
       "    <tr>\n",
       "      <th>32504</th>\n",
       "      <td>A good movie but I didn't find it as good as a...</td>\n",
       "      <td>good movie nt find good lot reviewers found De...</td>\n",
       "    </tr>\n",
       "  </tbody>\n",
       "</table>\n",
       "<p>32505 rows × 2 columns</p>\n",
       "</div>"
      ],
      "text/plain": [
       "                                              raw_review  \\\n",
       "0      \"Carmencita\" is a short video of a woman danci...   \n",
       "1      Like his other work, Autour d'une cabine, Char...   \n",
       "2      In 1891, Thomas Edison and his staff, led by W...   \n",
       "3      James J. Corbett (better known as Gentleman Ji...   \n",
       "4      In this film, Fred Ott, an employee of Thomas ...   \n",
       "...                                                  ...   \n",
       "32500  I just watched The Trial of the Catonsville Ni...   \n",
       "32501  TRILOGY OF SWORDSMANSHIP came as a bit of a su...   \n",
       "32502  \"Trinity and Sartana\" was originally released ...   \n",
       "32503  You will also find my first review for the fil...   \n",
       "32504  A good movie but I didn't find it as good as a...   \n",
       "\n",
       "                                            clean_review  \n",
       "0       Carmencita  short video woman dancing obvious...  \n",
       "1      Like work Autour dune cabine CharlesÉmile Reyn...  \n",
       "2      1891 Thomas Edison staff led William K L Dicks...  \n",
       "3      James J Corbett better known Gentleman Jim Cor...  \n",
       "4      film Fred Ott employee Thomas Edison takes pin...  \n",
       "...                                                  ...  \n",
       "32500  watched Trial Catonsville Nine first time wait...  \n",
       "32501  TRILOGY SWORDSMANSHIP came bit surprise knowin...  \n",
       "32502   Trinity Sartana  originally released back 197...  \n",
       "32503  also find first review film  Solange leben mir...  \n",
       "32504  good movie nt find good lot reviewers found De...  \n",
       "\n",
       "[32505 rows x 2 columns]"
      ]
     },
     "execution_count": 244,
     "metadata": {},
     "output_type": "execute_result"
    }
   ],
   "source": [
    "\n",
    "new_df = pd.DataFrame({\n",
    "    'raw_review': df_clean_labeled['review'].values,\n",
    "    'clean_review': df_clean_labeled['clean_review'].values\n",
    "})\n",
    "new_df"
   ]
  },
  {
   "cell_type": "code",
   "execution_count": 246,
   "id": "df4d212f-d8d5-42ba-8269-34a967d9f6e0",
   "metadata": {},
   "outputs": [],
   "source": [
    "df_clean_labeled = df_clean_labeled.drop(columns='review')"
   ]
  },
  {
   "cell_type": "code",
   "execution_count": 247,
   "id": "ccca1ac8-0e0a-4824-94c3-371f7b92fcea",
   "metadata": {},
   "outputs": [
    {
     "data": {
      "text/html": [
       "<div>\n",
       "<style scoped>\n",
       "    .dataframe tbody tr th:only-of-type {\n",
       "        vertical-align: middle;\n",
       "    }\n",
       "\n",
       "    .dataframe tbody tr th {\n",
       "        vertical-align: top;\n",
       "    }\n",
       "\n",
       "    .dataframe thead th {\n",
       "        text-align: right;\n",
       "    }\n",
       "</style>\n",
       "<table border=\"1\" class=\"dataframe\">\n",
       "  <thead>\n",
       "    <tr style=\"text-align: right;\">\n",
       "      <th></th>\n",
       "      <th>sentiment</th>\n",
       "      <th>clean_review</th>\n",
       "    </tr>\n",
       "  </thead>\n",
       "  <tbody>\n",
       "    <tr>\n",
       "      <th>0</th>\n",
       "      <td>-1</td>\n",
       "      <td>Carmencita  short video woman dancing obvious...</td>\n",
       "    </tr>\n",
       "    <tr>\n",
       "      <th>1</th>\n",
       "      <td>-1</td>\n",
       "      <td>Like work Autour dune cabine CharlesÉmile Reyn...</td>\n",
       "    </tr>\n",
       "    <tr>\n",
       "      <th>3</th>\n",
       "      <td>1</td>\n",
       "      <td>1891 Thomas Edison staff led William K L Dicks...</td>\n",
       "    </tr>\n",
       "    <tr>\n",
       "      <th>4</th>\n",
       "      <td>1</td>\n",
       "      <td>James J Corbett better known Gentleman Jim Cor...</td>\n",
       "    </tr>\n",
       "    <tr>\n",
       "      <th>5</th>\n",
       "      <td>0</td>\n",
       "      <td>film Fred Ott employee Thomas Edison takes pin...</td>\n",
       "    </tr>\n",
       "    <tr>\n",
       "      <th>...</th>\n",
       "      <td>...</td>\n",
       "      <td>...</td>\n",
       "    </tr>\n",
       "    <tr>\n",
       "      <th>38646</th>\n",
       "      <td>1</td>\n",
       "      <td>watched Trial Catonsville Nine first time wait...</td>\n",
       "    </tr>\n",
       "    <tr>\n",
       "      <th>38647</th>\n",
       "      <td>1</td>\n",
       "      <td>TRILOGY SWORDSMANSHIP came bit surprise knowin...</td>\n",
       "    </tr>\n",
       "    <tr>\n",
       "      <th>38648</th>\n",
       "      <td>-1</td>\n",
       "      <td>Trinity Sartana  originally released back 197...</td>\n",
       "    </tr>\n",
       "    <tr>\n",
       "      <th>38649</th>\n",
       "      <td>0</td>\n",
       "      <td>also find first review film  Solange leben mir...</td>\n",
       "    </tr>\n",
       "    <tr>\n",
       "      <th>38651</th>\n",
       "      <td>1</td>\n",
       "      <td>good movie nt find good lot reviewers found De...</td>\n",
       "    </tr>\n",
       "  </tbody>\n",
       "</table>\n",
       "<p>32505 rows × 2 columns</p>\n",
       "</div>"
      ],
      "text/plain": [
       "       sentiment                                       clean_review\n",
       "0             -1   Carmencita  short video woman dancing obvious...\n",
       "1             -1  Like work Autour dune cabine CharlesÉmile Reyn...\n",
       "3              1  1891 Thomas Edison staff led William K L Dicks...\n",
       "4              1  James J Corbett better known Gentleman Jim Cor...\n",
       "5              0  film Fred Ott employee Thomas Edison takes pin...\n",
       "...          ...                                                ...\n",
       "38646          1  watched Trial Catonsville Nine first time wait...\n",
       "38647          1  TRILOGY SWORDSMANSHIP came bit surprise knowin...\n",
       "38648         -1   Trinity Sartana  originally released back 197...\n",
       "38649          0  also find first review film  Solange leben mir...\n",
       "38651          1  good movie nt find good lot reviewers found De...\n",
       "\n",
       "[32505 rows x 2 columns]"
      ]
     },
     "execution_count": 247,
     "metadata": {},
     "output_type": "execute_result"
    }
   ],
   "source": [
    "df_clean_labeled"
   ]
  },
  {
   "cell_type": "code",
   "execution_count": 248,
   "id": "f2e6638f-cec0-41e1-a85f-f9e2995b4a3d",
   "metadata": {},
   "outputs": [],
   "source": [
    "#Tokenization\n",
    "df_clean_labeled['tokenized_review'] = df_clean_labeled['clean_review'].apply(lambda x: word_tokenize(x))"
   ]
  },
  {
   "cell_type": "code",
   "execution_count": 249,
   "id": "c64802a7-68ed-403c-8553-bdbcf76a911c",
   "metadata": {},
   "outputs": [
    {
     "data": {
      "text/html": [
       "<div>\n",
       "<style scoped>\n",
       "    .dataframe tbody tr th:only-of-type {\n",
       "        vertical-align: middle;\n",
       "    }\n",
       "\n",
       "    .dataframe tbody tr th {\n",
       "        vertical-align: top;\n",
       "    }\n",
       "\n",
       "    .dataframe thead th {\n",
       "        text-align: right;\n",
       "    }\n",
       "</style>\n",
       "<table border=\"1\" class=\"dataframe\">\n",
       "  <thead>\n",
       "    <tr style=\"text-align: right;\">\n",
       "      <th></th>\n",
       "      <th>tokenized_review</th>\n",
       "      <th>clean_review</th>\n",
       "    </tr>\n",
       "  </thead>\n",
       "  <tbody>\n",
       "    <tr>\n",
       "      <th>0</th>\n",
       "      <td>[Carmencita, short, video, woman, dancing, obv...</td>\n",
       "      <td>Carmencita  short video woman dancing obvious...</td>\n",
       "    </tr>\n",
       "    <tr>\n",
       "      <th>1</th>\n",
       "      <td>[Like, work, Autour, dune, cabine, CharlesÉmil...</td>\n",
       "      <td>Like work Autour dune cabine CharlesÉmile Reyn...</td>\n",
       "    </tr>\n",
       "    <tr>\n",
       "      <th>3</th>\n",
       "      <td>[1891, Thomas, Edison, staff, led, William, K,...</td>\n",
       "      <td>1891 Thomas Edison staff led William K L Dicks...</td>\n",
       "    </tr>\n",
       "    <tr>\n",
       "      <th>4</th>\n",
       "      <td>[James, J, Corbett, better, known, Gentleman, ...</td>\n",
       "      <td>James J Corbett better known Gentleman Jim Cor...</td>\n",
       "    </tr>\n",
       "    <tr>\n",
       "      <th>5</th>\n",
       "      <td>[film, Fred, Ott, employee, Thomas, Edison, ta...</td>\n",
       "      <td>film Fred Ott employee Thomas Edison takes pin...</td>\n",
       "    </tr>\n",
       "    <tr>\n",
       "      <th>...</th>\n",
       "      <td>...</td>\n",
       "      <td>...</td>\n",
       "    </tr>\n",
       "    <tr>\n",
       "      <th>38646</th>\n",
       "      <td>[watched, Trial, Catonsville, Nine, first, tim...</td>\n",
       "      <td>watched Trial Catonsville Nine first time wait...</td>\n",
       "    </tr>\n",
       "    <tr>\n",
       "      <th>38647</th>\n",
       "      <td>[TRILOGY, SWORDSMANSHIP, came, bit, surprise, ...</td>\n",
       "      <td>TRILOGY SWORDSMANSHIP came bit surprise knowin...</td>\n",
       "    </tr>\n",
       "    <tr>\n",
       "      <th>38648</th>\n",
       "      <td>[Trinity, Sartana, originally, released, back,...</td>\n",
       "      <td>Trinity Sartana  originally released back 197...</td>\n",
       "    </tr>\n",
       "    <tr>\n",
       "      <th>38649</th>\n",
       "      <td>[also, find, first, review, film, Solange, leb...</td>\n",
       "      <td>also find first review film  Solange leben mir...</td>\n",
       "    </tr>\n",
       "    <tr>\n",
       "      <th>38651</th>\n",
       "      <td>[good, movie, nt, find, good, lot, reviewers, ...</td>\n",
       "      <td>good movie nt find good lot reviewers found De...</td>\n",
       "    </tr>\n",
       "  </tbody>\n",
       "</table>\n",
       "<p>32505 rows × 2 columns</p>\n",
       "</div>"
      ],
      "text/plain": [
       "                                        tokenized_review  \\\n",
       "0      [Carmencita, short, video, woman, dancing, obv...   \n",
       "1      [Like, work, Autour, dune, cabine, CharlesÉmil...   \n",
       "3      [1891, Thomas, Edison, staff, led, William, K,...   \n",
       "4      [James, J, Corbett, better, known, Gentleman, ...   \n",
       "5      [film, Fred, Ott, employee, Thomas, Edison, ta...   \n",
       "...                                                  ...   \n",
       "38646  [watched, Trial, Catonsville, Nine, first, tim...   \n",
       "38647  [TRILOGY, SWORDSMANSHIP, came, bit, surprise, ...   \n",
       "38648  [Trinity, Sartana, originally, released, back,...   \n",
       "38649  [also, find, first, review, film, Solange, leb...   \n",
       "38651  [good, movie, nt, find, good, lot, reviewers, ...   \n",
       "\n",
       "                                            clean_review  \n",
       "0       Carmencita  short video woman dancing obvious...  \n",
       "1      Like work Autour dune cabine CharlesÉmile Reyn...  \n",
       "3      1891 Thomas Edison staff led William K L Dicks...  \n",
       "4      James J Corbett better known Gentleman Jim Cor...  \n",
       "5      film Fred Ott employee Thomas Edison takes pin...  \n",
       "...                                                  ...  \n",
       "38646  watched Trial Catonsville Nine first time wait...  \n",
       "38647  TRILOGY SWORDSMANSHIP came bit surprise knowin...  \n",
       "38648   Trinity Sartana  originally released back 197...  \n",
       "38649  also find first review film  Solange leben mir...  \n",
       "38651  good movie nt find good lot reviewers found De...  \n",
       "\n",
       "[32505 rows x 2 columns]"
      ]
     },
     "execution_count": 249,
     "metadata": {},
     "output_type": "execute_result"
    }
   ],
   "source": [
    "# Display the DataFrame with the tokenized reviews\n",
    "df_clean_labeled[['tokenized_review', 'clean_review']]"
   ]
  },
  {
   "cell_type": "code",
   "execution_count": 250,
   "id": "fe2973d2-52d4-459f-840a-4a4462aec693",
   "metadata": {},
   "outputs": [],
   "source": [
    "df_clean_labeled_tokenized = df_clean_labeled.drop(columns='clean_review')"
   ]
  },
  {
   "cell_type": "code",
   "execution_count": 251,
   "id": "9ee0dff8-5a54-4468-ab10-7ef97e4bf5e7",
   "metadata": {},
   "outputs": [
    {
     "data": {
      "text/html": [
       "<div>\n",
       "<style scoped>\n",
       "    .dataframe tbody tr th:only-of-type {\n",
       "        vertical-align: middle;\n",
       "    }\n",
       "\n",
       "    .dataframe tbody tr th {\n",
       "        vertical-align: top;\n",
       "    }\n",
       "\n",
       "    .dataframe thead th {\n",
       "        text-align: right;\n",
       "    }\n",
       "</style>\n",
       "<table border=\"1\" class=\"dataframe\">\n",
       "  <thead>\n",
       "    <tr style=\"text-align: right;\">\n",
       "      <th></th>\n",
       "      <th>sentiment</th>\n",
       "      <th>tokenized_review</th>\n",
       "    </tr>\n",
       "  </thead>\n",
       "  <tbody>\n",
       "    <tr>\n",
       "      <th>0</th>\n",
       "      <td>-1</td>\n",
       "      <td>[Carmencita, short, video, woman, dancing, obv...</td>\n",
       "    </tr>\n",
       "    <tr>\n",
       "      <th>1</th>\n",
       "      <td>-1</td>\n",
       "      <td>[Like, work, Autour, dune, cabine, CharlesÉmil...</td>\n",
       "    </tr>\n",
       "    <tr>\n",
       "      <th>3</th>\n",
       "      <td>1</td>\n",
       "      <td>[1891, Thomas, Edison, staff, led, William, K,...</td>\n",
       "    </tr>\n",
       "    <tr>\n",
       "      <th>4</th>\n",
       "      <td>1</td>\n",
       "      <td>[James, J, Corbett, better, known, Gentleman, ...</td>\n",
       "    </tr>\n",
       "    <tr>\n",
       "      <th>5</th>\n",
       "      <td>0</td>\n",
       "      <td>[film, Fred, Ott, employee, Thomas, Edison, ta...</td>\n",
       "    </tr>\n",
       "    <tr>\n",
       "      <th>...</th>\n",
       "      <td>...</td>\n",
       "      <td>...</td>\n",
       "    </tr>\n",
       "    <tr>\n",
       "      <th>38646</th>\n",
       "      <td>1</td>\n",
       "      <td>[watched, Trial, Catonsville, Nine, first, tim...</td>\n",
       "    </tr>\n",
       "    <tr>\n",
       "      <th>38647</th>\n",
       "      <td>1</td>\n",
       "      <td>[TRILOGY, SWORDSMANSHIP, came, bit, surprise, ...</td>\n",
       "    </tr>\n",
       "    <tr>\n",
       "      <th>38648</th>\n",
       "      <td>-1</td>\n",
       "      <td>[Trinity, Sartana, originally, released, back,...</td>\n",
       "    </tr>\n",
       "    <tr>\n",
       "      <th>38649</th>\n",
       "      <td>0</td>\n",
       "      <td>[also, find, first, review, film, Solange, leb...</td>\n",
       "    </tr>\n",
       "    <tr>\n",
       "      <th>38651</th>\n",
       "      <td>1</td>\n",
       "      <td>[good, movie, nt, find, good, lot, reviewers, ...</td>\n",
       "    </tr>\n",
       "  </tbody>\n",
       "</table>\n",
       "<p>32505 rows × 2 columns</p>\n",
       "</div>"
      ],
      "text/plain": [
       "       sentiment                                   tokenized_review\n",
       "0             -1  [Carmencita, short, video, woman, dancing, obv...\n",
       "1             -1  [Like, work, Autour, dune, cabine, CharlesÉmil...\n",
       "3              1  [1891, Thomas, Edison, staff, led, William, K,...\n",
       "4              1  [James, J, Corbett, better, known, Gentleman, ...\n",
       "5              0  [film, Fred, Ott, employee, Thomas, Edison, ta...\n",
       "...          ...                                                ...\n",
       "38646          1  [watched, Trial, Catonsville, Nine, first, tim...\n",
       "38647          1  [TRILOGY, SWORDSMANSHIP, came, bit, surprise, ...\n",
       "38648         -1  [Trinity, Sartana, originally, released, back,...\n",
       "38649          0  [also, find, first, review, film, Solange, leb...\n",
       "38651          1  [good, movie, nt, find, good, lot, reviewers, ...\n",
       "\n",
       "[32505 rows x 2 columns]"
      ]
     },
     "execution_count": 251,
     "metadata": {},
     "output_type": "execute_result"
    }
   ],
   "source": [
    "df_clean_labeled_tokenized"
   ]
  },
  {
   "cell_type": "code",
   "execution_count": 252,
   "id": "56dded87-5fed-4fa7-a703-3a03c66041bb",
   "metadata": {},
   "outputs": [],
   "source": [
    "#Write it to a new CSV\n",
    "df_clean_labeled_tokenized.to_csv('df_clean_labeled_tokenized.csv', \n",
    "                      index=False)"
   ]
  },
  {
   "cell_type": "code",
   "execution_count": null,
   "id": "ea6c300f-0f6b-49b7-b692-57b07c7eff31",
   "metadata": {},
   "outputs": [],
   "source": [
    "#upload new datato s3\n",
    "!aws s3 cp df_clean_labeled_tokenized.csv bucket_address/Data/"
   ]
  },
  {
   "cell_type": "markdown",
   "id": "e3743a03-00bc-41b2-a284-6eb7edb3f62f",
   "metadata": {},
   "source": []
  }
 ],
 "metadata": {
  "kernelspec": {
   "display_name": "Python 3 (ipykernel)",
   "language": "python",
   "name": "python3"
  },
  "language_info": {
   "codemirror_mode": {
    "name": "ipython",
    "version": 3
   },
   "file_extension": ".py",
   "mimetype": "text/x-python",
   "name": "python",
   "nbconvert_exporter": "python",
   "pygments_lexer": "ipython3",
   "version": "3.11.7"
  }
 },
 "nbformat": 4,
 "nbformat_minor": 5
}
