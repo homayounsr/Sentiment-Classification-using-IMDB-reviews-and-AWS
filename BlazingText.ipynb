{
 "cells": [
  {
   "cell_type": "code",
   "execution_count": 141,
   "id": "fececad9-b22c-4501-953c-823b951a2380",
   "metadata": {},
   "outputs": [
    {
     "name": "stderr",
     "output_type": "stream",
     "text": [
      "[nltk_data] Downloading package punkt to /home/sagemaker-\n",
      "[nltk_data]     user/nltk_data...\n",
      "[nltk_data]   Package punkt is already up-to-date!\n"
     ]
    },
    {
     "data": {
      "text/plain": [
       "True"
      ]
     },
     "execution_count": 141,
     "metadata": {},
     "output_type": "execute_result"
    }
   ],
   "source": [
    "import pandas as pd\n",
    "from sklearn.model_selection import train_test_split\n",
    "import matplotlib.pyplot as plt\n",
    "import boto3\n",
    "import sagemaker\n",
    "from sagemaker import get_execution_role\n",
    "import nltk\n",
    "nltk.download('punkt')"
   ]
  },
  {
   "cell_type": "code",
   "execution_count": null,
   "id": "44355a72-346e-4114-b1f5-43a875f33f30",
   "metadata": {},
   "outputs": [],
   "source": [
    "#getting bucket name\n",
    "s3 = boto3.client('s3')\n",
    "bucket = s3.list_buckets()\n",
    "bucket_names = [bucket['Name'] for bucket in bucket['Buckets']]\n",
    "\n",
    "for bucket_name in bucket_names:\n",
    "    bucket_url = bucket_name\n",
    "    print(f\"Bucket name: {bucket_name}\")"
   ]
  },
  {
   "cell_type": "code",
   "execution_count": null,
   "id": "58cb636a-c1b6-45fe-8052-6f8860e4c46c",
   "metadata": {},
   "outputs": [],
   "source": [
    "# AWS credentials\n",
    "aws_access_key = 'xxx'\n",
    "aws_secret_access_key = 'xxx'\n",
    "aws_region = 'us-east-2'\n",
    "\n",
    "# Create a SageMaker Session\n",
    "sess = sagemaker.Session()\n",
    "# Get the SageMaker execution role\n",
    "role = get_execution_role()\n",
    "# S3 bucket and file information\n",
    "bucket_name = 'xxx'\n",
    "\n",
    "# Create an S3 client\n",
    "s3 = boto3.client('s3', aws_access_key_id=aws_access_key, aws_secret_access_key=aws_secret_access_key, region_name=aws_region)\n",
    "  "
   ]
  },
  {
   "cell_type": "code",
   "execution_count": 70,
   "id": "fbfdb41a-1a76-451d-9e84-60b1c12382b2",
   "metadata": {},
   "outputs": [],
   "source": [
    "df_blazingtext = pd.read_csv('df_clean_labeled_tokenized.csv')"
   ]
  },
  {
   "cell_type": "code",
   "execution_count": 71,
   "id": "82b4d9fa-ae70-4a9b-9db6-b7dbd364aa84",
   "metadata": {},
   "outputs": [
    {
     "data": {
      "text/html": [
       "<div>\n",
       "<style scoped>\n",
       "    .dataframe tbody tr th:only-of-type {\n",
       "        vertical-align: middle;\n",
       "    }\n",
       "\n",
       "    .dataframe tbody tr th {\n",
       "        vertical-align: top;\n",
       "    }\n",
       "\n",
       "    .dataframe thead th {\n",
       "        text-align: right;\n",
       "    }\n",
       "</style>\n",
       "<table border=\"1\" class=\"dataframe\">\n",
       "  <thead>\n",
       "    <tr style=\"text-align: right;\">\n",
       "      <th></th>\n",
       "      <th>sentiment</th>\n",
       "      <th>tokenized_review</th>\n",
       "    </tr>\n",
       "  </thead>\n",
       "  <tbody>\n",
       "    <tr>\n",
       "      <th>0</th>\n",
       "      <td>-1</td>\n",
       "      <td>['Carmencita', 'short', 'video', 'woman', 'dan...</td>\n",
       "    </tr>\n",
       "    <tr>\n",
       "      <th>1</th>\n",
       "      <td>-1</td>\n",
       "      <td>['Like', 'work', 'Autour', 'dune', 'cabine', '...</td>\n",
       "    </tr>\n",
       "    <tr>\n",
       "      <th>2</th>\n",
       "      <td>1</td>\n",
       "      <td>['1891', 'Thomas', 'Edison', 'staff', 'led', '...</td>\n",
       "    </tr>\n",
       "    <tr>\n",
       "      <th>3</th>\n",
       "      <td>1</td>\n",
       "      <td>['James', 'J', 'Corbett', 'better', 'known', '...</td>\n",
       "    </tr>\n",
       "    <tr>\n",
       "      <th>4</th>\n",
       "      <td>0</td>\n",
       "      <td>['film', 'Fred', 'Ott', 'employee', 'Thomas', ...</td>\n",
       "    </tr>\n",
       "    <tr>\n",
       "      <th>...</th>\n",
       "      <td>...</td>\n",
       "      <td>...</td>\n",
       "    </tr>\n",
       "    <tr>\n",
       "      <th>32500</th>\n",
       "      <td>1</td>\n",
       "      <td>['watched', 'Trial', 'Catonsville', 'Nine', 'f...</td>\n",
       "    </tr>\n",
       "    <tr>\n",
       "      <th>32501</th>\n",
       "      <td>1</td>\n",
       "      <td>['TRILOGY', 'SWORDSMANSHIP', 'came', 'bit', 's...</td>\n",
       "    </tr>\n",
       "    <tr>\n",
       "      <th>32502</th>\n",
       "      <td>-1</td>\n",
       "      <td>['Trinity', 'Sartana', 'originally', 'released...</td>\n",
       "    </tr>\n",
       "    <tr>\n",
       "      <th>32503</th>\n",
       "      <td>0</td>\n",
       "      <td>['also', 'find', 'first', 'review', 'film', 'S...</td>\n",
       "    </tr>\n",
       "    <tr>\n",
       "      <th>32504</th>\n",
       "      <td>1</td>\n",
       "      <td>['good', 'movie', 'nt', 'find', 'good', 'lot',...</td>\n",
       "    </tr>\n",
       "  </tbody>\n",
       "</table>\n",
       "<p>32505 rows × 2 columns</p>\n",
       "</div>"
      ],
      "text/plain": [
       "       sentiment                                   tokenized_review\n",
       "0             -1  ['Carmencita', 'short', 'video', 'woman', 'dan...\n",
       "1             -1  ['Like', 'work', 'Autour', 'dune', 'cabine', '...\n",
       "2              1  ['1891', 'Thomas', 'Edison', 'staff', 'led', '...\n",
       "3              1  ['James', 'J', 'Corbett', 'better', 'known', '...\n",
       "4              0  ['film', 'Fred', 'Ott', 'employee', 'Thomas', ...\n",
       "...          ...                                                ...\n",
       "32500          1  ['watched', 'Trial', 'Catonsville', 'Nine', 'f...\n",
       "32501          1  ['TRILOGY', 'SWORDSMANSHIP', 'came', 'bit', 's...\n",
       "32502         -1  ['Trinity', 'Sartana', 'originally', 'released...\n",
       "32503          0  ['also', 'find', 'first', 'review', 'film', 'S...\n",
       "32504          1  ['good', 'movie', 'nt', 'find', 'good', 'lot',...\n",
       "\n",
       "[32505 rows x 2 columns]"
      ]
     },
     "execution_count": 71,
     "metadata": {},
     "output_type": "execute_result"
    }
   ],
   "source": [
    "df_blazingtext"
   ]
  },
  {
   "cell_type": "code",
   "execution_count": 72,
   "id": "70faa462-0623-4b09-9366-9ac7c0bcdb14",
   "metadata": {},
   "outputs": [
    {
     "data": {
      "text/html": [
       "<div>\n",
       "<style scoped>\n",
       "    .dataframe tbody tr th:only-of-type {\n",
       "        vertical-align: middle;\n",
       "    }\n",
       "\n",
       "    .dataframe tbody tr th {\n",
       "        vertical-align: top;\n",
       "    }\n",
       "\n",
       "    .dataframe thead th {\n",
       "        text-align: right;\n",
       "    }\n",
       "</style>\n",
       "<table border=\"1\" class=\"dataframe\">\n",
       "  <thead>\n",
       "    <tr style=\"text-align: right;\">\n",
       "      <th></th>\n",
       "      <th>sentiment</th>\n",
       "      <th>tokenized_review</th>\n",
       "    </tr>\n",
       "  </thead>\n",
       "  <tbody>\n",
       "    <tr>\n",
       "      <th>0</th>\n",
       "      <td>__label__-1</td>\n",
       "      <td>['Carmencita', 'short', 'video', 'woman', 'dan...</td>\n",
       "    </tr>\n",
       "    <tr>\n",
       "      <th>1</th>\n",
       "      <td>__label__-1</td>\n",
       "      <td>['Like', 'work', 'Autour', 'dune', 'cabine', '...</td>\n",
       "    </tr>\n",
       "    <tr>\n",
       "      <th>2</th>\n",
       "      <td>__label__1</td>\n",
       "      <td>['1891', 'Thomas', 'Edison', 'staff', 'led', '...</td>\n",
       "    </tr>\n",
       "    <tr>\n",
       "      <th>3</th>\n",
       "      <td>__label__1</td>\n",
       "      <td>['James', 'J', 'Corbett', 'better', 'known', '...</td>\n",
       "    </tr>\n",
       "    <tr>\n",
       "      <th>4</th>\n",
       "      <td>__label__0</td>\n",
       "      <td>['film', 'Fred', 'Ott', 'employee', 'Thomas', ...</td>\n",
       "    </tr>\n",
       "  </tbody>\n",
       "</table>\n",
       "</div>"
      ],
      "text/plain": [
       "     sentiment                                   tokenized_review\n",
       "0  __label__-1  ['Carmencita', 'short', 'video', 'woman', 'dan...\n",
       "1  __label__-1  ['Like', 'work', 'Autour', 'dune', 'cabine', '...\n",
       "2   __label__1  ['1891', 'Thomas', 'Edison', 'staff', 'led', '...\n",
       "3   __label__1  ['James', 'J', 'Corbett', 'better', 'known', '...\n",
       "4   __label__0  ['film', 'Fred', 'Ott', 'employee', 'Thomas', ..."
      ]
     },
     "execution_count": 72,
     "metadata": {},
     "output_type": "execute_result"
    }
   ],
   "source": [
    "#Changing the label type for the need of BlazingText fit function\n",
    "def prepare_data(df):\n",
    "    df = df.map(lambda sentiment : '__label__{}'.format(str(sentiment).replace('__label__', '')))\n",
    "    return df\n",
    "\n",
    "\n",
    "\n",
    "df_blazingtext['sentiment'] = prepare_data(df_blazingtext['sentiment'])\n",
    "df_blazingtext.head()"
   ]
  },
  {
   "cell_type": "code",
   "execution_count": 73,
   "id": "f854a907-0194-4256-b5cd-9ccf773de014",
   "metadata": {},
   "outputs": [
    {
     "data": {
      "text/html": [
       "<div>\n",
       "<style scoped>\n",
       "    .dataframe tbody tr th:only-of-type {\n",
       "        vertical-align: middle;\n",
       "    }\n",
       "\n",
       "    .dataframe tbody tr th {\n",
       "        vertical-align: top;\n",
       "    }\n",
       "\n",
       "    .dataframe thead th {\n",
       "        text-align: right;\n",
       "    }\n",
       "</style>\n",
       "<table border=\"1\" class=\"dataframe\">\n",
       "  <thead>\n",
       "    <tr style=\"text-align: right;\">\n",
       "      <th></th>\n",
       "      <th>sentiment</th>\n",
       "      <th>tokenized_review</th>\n",
       "    </tr>\n",
       "  </thead>\n",
       "  <tbody>\n",
       "    <tr>\n",
       "      <th>0</th>\n",
       "      <td>__label__-1</td>\n",
       "      <td>['Carmencita', 'short', 'video', 'woman', 'dan...</td>\n",
       "    </tr>\n",
       "    <tr>\n",
       "      <th>1</th>\n",
       "      <td>__label__-1</td>\n",
       "      <td>['Like', 'work', 'Autour', 'dune', 'cabine', '...</td>\n",
       "    </tr>\n",
       "    <tr>\n",
       "      <th>2</th>\n",
       "      <td>__label__1</td>\n",
       "      <td>['1891', 'Thomas', 'Edison', 'staff', 'led', '...</td>\n",
       "    </tr>\n",
       "    <tr>\n",
       "      <th>3</th>\n",
       "      <td>__label__1</td>\n",
       "      <td>['James', 'J', 'Corbett', 'better', 'known', '...</td>\n",
       "    </tr>\n",
       "    <tr>\n",
       "      <th>4</th>\n",
       "      <td>__label__0</td>\n",
       "      <td>['film', 'Fred', 'Ott', 'employee', 'Thomas', ...</td>\n",
       "    </tr>\n",
       "    <tr>\n",
       "      <th>...</th>\n",
       "      <td>...</td>\n",
       "      <td>...</td>\n",
       "    </tr>\n",
       "    <tr>\n",
       "      <th>32500</th>\n",
       "      <td>__label__1</td>\n",
       "      <td>['watched', 'Trial', 'Catonsville', 'Nine', 'f...</td>\n",
       "    </tr>\n",
       "    <tr>\n",
       "      <th>32501</th>\n",
       "      <td>__label__1</td>\n",
       "      <td>['TRILOGY', 'SWORDSMANSHIP', 'came', 'bit', 's...</td>\n",
       "    </tr>\n",
       "    <tr>\n",
       "      <th>32502</th>\n",
       "      <td>__label__-1</td>\n",
       "      <td>['Trinity', 'Sartana', 'originally', 'released...</td>\n",
       "    </tr>\n",
       "    <tr>\n",
       "      <th>32503</th>\n",
       "      <td>__label__0</td>\n",
       "      <td>['also', 'find', 'first', 'review', 'film', 'S...</td>\n",
       "    </tr>\n",
       "    <tr>\n",
       "      <th>32504</th>\n",
       "      <td>__label__1</td>\n",
       "      <td>['good', 'movie', 'nt', 'find', 'good', 'lot',...</td>\n",
       "    </tr>\n",
       "  </tbody>\n",
       "</table>\n",
       "<p>32505 rows × 2 columns</p>\n",
       "</div>"
      ],
      "text/plain": [
       "         sentiment                                   tokenized_review\n",
       "0      __label__-1  ['Carmencita', 'short', 'video', 'woman', 'dan...\n",
       "1      __label__-1  ['Like', 'work', 'Autour', 'dune', 'cabine', '...\n",
       "2       __label__1  ['1891', 'Thomas', 'Edison', 'staff', 'led', '...\n",
       "3       __label__1  ['James', 'J', 'Corbett', 'better', 'known', '...\n",
       "4       __label__0  ['film', 'Fred', 'Ott', 'employee', 'Thomas', ...\n",
       "...            ...                                                ...\n",
       "32500   __label__1  ['watched', 'Trial', 'Catonsville', 'Nine', 'f...\n",
       "32501   __label__1  ['TRILOGY', 'SWORDSMANSHIP', 'came', 'bit', 's...\n",
       "32502  __label__-1  ['Trinity', 'Sartana', 'originally', 'released...\n",
       "32503   __label__0  ['also', 'find', 'first', 'review', 'film', 'S...\n",
       "32504   __label__1  ['good', 'movie', 'nt', 'find', 'good', 'lot',...\n",
       "\n",
       "[32505 rows x 2 columns]"
      ]
     },
     "execution_count": 73,
     "metadata": {},
     "output_type": "execute_result"
    }
   ],
   "source": [
    "df_blazingtext"
   ]
  },
  {
   "cell_type": "code",
   "execution_count": 125,
   "id": "fd04f0fe-7d89-4f2c-9217-7a8dbb6a2757",
   "metadata": {},
   "outputs": [
    {
     "data": {
      "image/png": "[encoded data removed]",
      "text/plain": [
       "<Figure size 640x480 with 1 Axes>"
      ]
     },
     "metadata": {},
     "output_type": "display_data"
    },
    {
     "name": "stdout",
     "output_type": "stream",
     "text": [
      "Train set size is: 29254\n",
      "Validation set size is: 3251\n"
     ]
    }
   ],
   "source": [
    "\n",
    "# Split all data into 90% train and 10% holdout\n",
    "df_train, df_validation = train_test_split(df_blazingtext, \n",
    "                                           test_size=0.10,\n",
    "                                           stratify=df_blazingtext['sentiment'])\n",
    "\n",
    "labels = ['train', 'validation']\n",
    "sizes = [len(df_train.index), len(df_validation.index)]\n",
    "explode = (0.1, 0)  \n",
    "\n",
    "fig1, ax1 = plt.subplots()\n",
    "\n",
    "ax1.pie(sizes, explode=explode, labels=labels, autopct='%1.1f%%', startangle=90)\n",
    "\n",
    "# Equal aspect ratio ensures that pie is drawn as a circle.\n",
    "ax1.axis('equal')  \n",
    "\n",
    "plt.show()\n",
    "print(f'Train set size is: {len(df_train)}' )\n",
    "print(f'Validation set size is: {len(df_validation)}' )"
   ]
  },
  {
   "cell_type": "code",
   "execution_count": 126,
   "id": "0548b425-660d-4780-b6c3-c6941ec42480",
   "metadata": {},
   "outputs": [],
   "source": [
    "#Save result as CSV\n",
    "blazingtext_train_path = './train.csv'\n",
    "df_train[['sentiment', 'tokenized_review']].to_csv(blazingtext_train_path, index=False, header=False, sep=' ')"
   ]
  },
  {
   "cell_type": "code",
   "execution_count": 127,
   "id": "695da23e-9258-4c6f-ab3f-36676b6b7381",
   "metadata": {},
   "outputs": [],
   "source": [
    "blazingtext_validation_path = './validation.csv'\n",
    "df_validation[['sentiment', 'tokenized_review']].to_csv(blazingtext_validation_path, index=False, header=False, sep=' ')"
   ]
  },
  {
   "cell_type": "code",
   "execution_count": 128,
   "id": "b6429f3b-bf1e-4856-a785-abe49d20b54d",
   "metadata": {},
   "outputs": [
    {
     "name": "stdout",
     "output_type": "stream",
     "text": [
      "Train and Validation sets uploaded to S3\n"
     ]
    }
   ],
   "source": [
    "#Upload train and validation set for blazingtext to s3\n",
    "train_s3_uri = sess.upload_data(bucket=bucket_url, key_prefix='blazingtext/data', path=blazingtext_train_path)\n",
    "validation_s3_uri = sess.upload_data(bucket=bucket_url, key_prefix='blazingtext/data', path=blazingtext_validation_path)\n",
    "print(\"Train and Validation sets uploaded to S3\")"
   ]
  },
  {
   "cell_type": "markdown",
   "id": "7e449e8a-ec23-4d3c-b17b-5e67dda4c890",
   "metadata": {},
   "source": [
    "#### Train the BlazingText model"
   ]
  },
  {
   "cell_type": "code",
   "execution_count": 132,
   "id": "78537fe4-c000-41bc-8dc1-eff2dd2d7c9e",
   "metadata": {},
   "outputs": [
    {
     "name": "stderr",
     "output_type": "stream",
     "text": [
      "INFO:sagemaker.image_uris:Same images used for training and inference. Defaulting to image scope: inference.\n",
      "INFO:sagemaker.image_uris:Defaulting to the only supported framework/algorithm version: 1.\n",
      "INFO:sagemaker.image_uris:Ignoring unnecessary instance type: None.\n"
     ]
    }
   ],
   "source": [
    "image_uri = sagemaker.image_uris.retrieve(\n",
    "    region=aws_region,\n",
    "    framework='blazingtext'\n",
    ")"
   ]
  },
  {
   "cell_type": "code",
   "execution_count": 130,
   "id": "9c886fad-d4b7-48f6-ae01-7e58e30a787b",
   "metadata": {},
   "outputs": [],
   "source": [
    "estimator = sagemaker.estimator.Estimator(\n",
    "    image_uri=image_uri,\n",
    "    role=role, \n",
    "    instance_count=1, \n",
    "    instance_type='ml.m5.large',\n",
    "    volume_size=30,\n",
    "    max_run=7200,\n",
    "    sagemaker_session=sess\n",
    ")"
   ]
  },
  {
   "cell_type": "code",
   "execution_count": 133,
   "id": "5feb07ce-69a7-4188-a917-02e5a69c3251",
   "metadata": {},
   "outputs": [],
   "source": [
    "estimator.set_hyperparameters(mode='supervised',   # supervised (text classification)\n",
    "                              epochs=15,           # number of complete passes through the dataset: 5 - 15\n",
    "                              learning_rate=0.001,  # step size for the  numerical optimizer: 0.005 - 0.01\n",
    "                              min_count=2,         # discard words that appear less than this number: 0 - 100                              \n",
    "                              vector_dim=300,      # number of dimensions in vector space: 32-300\n",
    "                              word_ngrams=3)       # number of words in a word n-gram: 1 - 3"
   ]
  },
  {
   "cell_type": "code",
   "execution_count": 134,
   "id": "a292d930-7100-4a49-9348-f939f97f9857",
   "metadata": {},
   "outputs": [],
   "source": [
    "train_data = sagemaker.inputs.TrainingInput(\n",
    "    train_s3_uri,\n",
    "    distribution='FullyReplicated', \n",
    "    content_type='text/plain', \n",
    "    s3_data_type='S3Prefix'\n",
    ")"
   ]
  },
  {
   "cell_type": "code",
   "execution_count": 135,
   "id": "11992401-f590-4ade-bd9a-684f3f5a00da",
   "metadata": {},
   "outputs": [],
   "source": [
    "validation_data = sagemaker.inputs.TrainingInput(\n",
    "    validation_s3_uri,\n",
    "    distribution='FullyReplicated', \n",
    "    content_type='text/plain', \n",
    "    s3_data_type='S3Prefix'\n",
    ")"
   ]
  },
  {
   "cell_type": "code",
   "execution_count": 136,
   "id": "8dd29b3b-b75d-47c4-bfcd-a0699d2db31a",
   "metadata": {},
   "outputs": [],
   "source": [
    "data_channels = {\n",
    "    'train': train_data, \n",
    "    'validation': validation_data \n",
    "}"
   ]
  },
  {
   "cell_type": "code",
   "execution_count": 137,
   "id": "837f9ae7-c9a5-41ca-9477-f5e12bfa09d7",
   "metadata": {},
   "outputs": [
    {
     "name": "stderr",
     "output_type": "stream",
     "text": [
      "INFO:sagemaker:Creating training-job with name: blazingtext-2023-12-20-22-15-41-519\n"
     ]
    },
    {
     "name": "stdout",
     "output_type": "stream",
     "text": [
      "Training Job Name:  blazingtext-2023-12-20-22-15-41-519\n"
     ]
    }
   ],
   "source": [
    "estimator.fit(\n",
    "    inputs=data_channels,\n",
    "    wait=False\n",
    ")\n",
    "\n",
    "training_job_name = estimator.latest_training_job.name\n",
    "print('Training Job Name:  {}'.format(training_job_name))"
   ]
  },
  {
   "cell_type": "code",
   "execution_count": 138,
   "id": "d6cfd100-d2e0-4fe7-ae48-95e66e0c636c",
   "metadata": {},
   "outputs": [
    {
     "name": "stdout",
     "output_type": "stream",
     "text": [
      "\n",
      "2023-12-20 22:15:42 Starting - Starting the training job.\n",
      "2023-12-20 22:15:55 Starting - Preparing the instances for training............\n",
      "2023-12-20 22:17:02 Downloading - Downloading input data........\n",
      "2023-12-20 22:17:48 Downloading - Downloading the training image..\n",
      "2023-12-20 22:18:03 Training - Training image download completed. Training in progress..................\n",
      "2023-12-20 22:19:34 Uploading - Uploading generated training model.....................\n",
      "2023-12-20 22:21:25 Completed - Training job completed\n",
      "CPU times: user 294 ms, sys: 40.8 ms, total: 335 ms\n",
      "Wall time: 5min 43s\n"
     ]
    }
   ],
   "source": [
    "%%time\n",
    "\n",
    "estimator.latest_training_job.wait(logs=False)"
   ]
  },
  {
   "cell_type": "code",
   "execution_count": 139,
   "id": "bca28bbc-fbff-46e5-8a82-536e90aff27c",
   "metadata": {},
   "outputs": [
    {
     "name": "stderr",
     "output_type": "stream",
     "text": [
      "WARNING:sagemaker.analytics:Warning: No metrics called train:mean_rho found\n"
     ]
    },
    {
     "data": {
      "text/html": [
       "<div>\n",
       "<style scoped>\n",
       "    .dataframe tbody tr th:only-of-type {\n",
       "        vertical-align: middle;\n",
       "    }\n",
       "\n",
       "    .dataframe tbody tr th {\n",
       "        vertical-align: top;\n",
       "    }\n",
       "\n",
       "    .dataframe thead th {\n",
       "        text-align: right;\n",
       "    }\n",
       "</style>\n",
       "<table border=\"1\" class=\"dataframe\">\n",
       "  <thead>\n",
       "    <tr style=\"text-align: right;\">\n",
       "      <th></th>\n",
       "      <th>timestamp</th>\n",
       "      <th>metric_name</th>\n",
       "      <th>value</th>\n",
       "    </tr>\n",
       "  </thead>\n",
       "  <tbody>\n",
       "    <tr>\n",
       "      <th>0</th>\n",
       "      <td>0.0</td>\n",
       "      <td>train:accuracy</td>\n",
       "      <td>0.4739</td>\n",
       "    </tr>\n",
       "    <tr>\n",
       "      <th>1</th>\n",
       "      <td>0.0</td>\n",
       "      <td>validation:accuracy</td>\n",
       "      <td>0.4752</td>\n",
       "    </tr>\n",
       "  </tbody>\n",
       "</table>\n",
       "</div>"
      ],
      "text/plain": [
       "   timestamp          metric_name   value\n",
       "0        0.0       train:accuracy  0.4739\n",
       "1        0.0  validation:accuracy  0.4752"
      ]
     },
     "execution_count": 139,
     "metadata": {},
     "output_type": "execute_result"
    }
   ],
   "source": [
    "estimator.training_job_analytics.dataframe()"
   ]
  },
  {
   "cell_type": "code",
   "execution_count": 140,
   "id": "14d2b054-cb5e-45f3-bd75-3c32691a7047",
   "metadata": {},
   "outputs": [
    {
     "name": "stderr",
     "output_type": "stream",
     "text": [
      "INFO:sagemaker:Creating model with name: blazingtext-2023-12-20-22-25-27-217\n",
      "INFO:sagemaker:Creating endpoint-config with name blazingtext-2023-12-20-22-25-27-217\n",
      "INFO:sagemaker:Creating endpoint with name blazingtext-2023-12-20-22-25-27-217\n"
     ]
    },
    {
     "name": "stdout",
     "output_type": "stream",
     "text": [
      "-----!\n",
      "Endpoint name:  blazingtext-2023-12-20-22-25-27-217\n",
      "CPU times: user 68.5 ms, sys: 11.5 ms, total: 80 ms\n",
      "Wall time: 3min 2s\n"
     ]
    }
   ],
   "source": [
    "%%time\n",
    "\n",
    "text_classifier = estimator.deploy(initial_instance_count=1,\n",
    "                                   instance_type='ml.m5.large',\n",
    "                                   serializer=sagemaker.serializers.JSONSerializer(),\n",
    "                                   deserializer=sagemaker.deserializers.JSONDeserializer())\n",
    "\n",
    "print()\n",
    "print('Endpoint name:  {}'.format(text_classifier.endpoint_name))"
   ]
  },
  {
   "cell_type": "code",
   "execution_count": 145,
   "id": "521e4292-0b90-4993-8173-b4b91881f2eb",
   "metadata": {},
   "outputs": [
    {
     "data": {
      "text/html": [
       "<div>\n",
       "<style scoped>\n",
       "    .dataframe tbody tr th:only-of-type {\n",
       "        vertical-align: middle;\n",
       "    }\n",
       "\n",
       "    .dataframe tbody tr th {\n",
       "        vertical-align: top;\n",
       "    }\n",
       "\n",
       "    .dataframe thead th {\n",
       "        text-align: right;\n",
       "    }\n",
       "</style>\n",
       "<table border=\"1\" class=\"dataframe\">\n",
       "  <thead>\n",
       "    <tr style=\"text-align: right;\">\n",
       "      <th></th>\n",
       "      <th>sentiment</th>\n",
       "      <th>tokenized_review</th>\n",
       "    </tr>\n",
       "  </thead>\n",
       "  <tbody>\n",
       "    <tr>\n",
       "      <th>23905</th>\n",
       "      <td>__label__0</td>\n",
       "      <td>['admit', 'review', 'based', '36', 'minute', '...</td>\n",
       "    </tr>\n",
       "    <tr>\n",
       "      <th>14533</th>\n",
       "      <td>__label__1</td>\n",
       "      <td>['TENNIS', 'CHUMPS', 'one', 'glaring', 'anomal...</td>\n",
       "    </tr>\n",
       "    <tr>\n",
       "      <th>32294</th>\n",
       "      <td>__label__1</td>\n",
       "      <td>['Lucio', 'Fulci', 'made', 'good', 'movie', 'k...</td>\n",
       "    </tr>\n",
       "    <tr>\n",
       "      <th>7369</th>\n",
       "      <td>__label__-1</td>\n",
       "      <td>['early', 'days', 'Looney', 'Tunes', 'cartoons...</td>\n",
       "    </tr>\n",
       "    <tr>\n",
       "      <th>683</th>\n",
       "      <td>__label__1</td>\n",
       "      <td>['movie', 'beautiful', 'love', 'box', 'tissues...</td>\n",
       "    </tr>\n",
       "    <tr>\n",
       "      <th>...</th>\n",
       "      <td>...</td>\n",
       "      <td>...</td>\n",
       "    </tr>\n",
       "    <tr>\n",
       "      <th>9189</th>\n",
       "      <td>__label__0</td>\n",
       "      <td>['One', 'many', 'Universal', 'programmers', 's...</td>\n",
       "    </tr>\n",
       "    <tr>\n",
       "      <th>19629</th>\n",
       "      <td>__label__0</td>\n",
       "      <td>['scenario', 'rather', 'banal', 'bought', 'spl...</td>\n",
       "    </tr>\n",
       "    <tr>\n",
       "      <th>18048</th>\n",
       "      <td>__label__1</td>\n",
       "      <td>['young', 'remember', 'much', 'Kate', 'Smith',...</td>\n",
       "    </tr>\n",
       "    <tr>\n",
       "      <th>22886</th>\n",
       "      <td>__label__1</td>\n",
       "      <td>['enjoying', 'movies', 'different', 'era', 'ho...</td>\n",
       "    </tr>\n",
       "    <tr>\n",
       "      <th>8265</th>\n",
       "      <td>__label__0</td>\n",
       "      <td>['First', 'law', 'ever', 'film', 'Mountie', 'p...</td>\n",
       "    </tr>\n",
       "  </tbody>\n",
       "</table>\n",
       "<p>3251 rows × 2 columns</p>\n",
       "</div>"
      ],
      "text/plain": [
       "         sentiment                                   tokenized_review\n",
       "23905   __label__0  ['admit', 'review', 'based', '36', 'minute', '...\n",
       "14533   __label__1  ['TENNIS', 'CHUMPS', 'one', 'glaring', 'anomal...\n",
       "32294   __label__1  ['Lucio', 'Fulci', 'made', 'good', 'movie', 'k...\n",
       "7369   __label__-1  ['early', 'days', 'Looney', 'Tunes', 'cartoons...\n",
       "683     __label__1  ['movie', 'beautiful', 'love', 'box', 'tissues...\n",
       "...            ...                                                ...\n",
       "9189    __label__0  ['One', 'many', 'Universal', 'programmers', 's...\n",
       "19629   __label__0  ['scenario', 'rather', 'banal', 'bought', 'spl...\n",
       "18048   __label__1  ['young', 'remember', 'much', 'Kate', 'Smith',...\n",
       "22886   __label__1  ['enjoying', 'movies', 'different', 'era', 'ho...\n",
       "8265    __label__0  ['First', 'law', 'ever', 'film', 'Mountie', 'p...\n",
       "\n",
       "[3251 rows x 2 columns]"
      ]
     },
     "execution_count": 145,
     "metadata": {},
     "output_type": "execute_result"
    }
   ],
   "source": [
    "df_validation"
   ]
  },
  {
   "cell_type": "code",
   "execution_count": 146,
   "id": "c14a1cce-03f3-4ea7-8c6c-7f82e732fb63",
   "metadata": {},
   "outputs": [
    {
     "name": "stderr",
     "output_type": "stream",
     "text": [
      "IOPub data rate exceeded.\n",
      "The Jupyter server will temporarily stop sending output\n",
      "to the client in order to avoid crashing it.\n",
      "To change this limit, set the config variable\n",
      "`--ServerApp.iopub_data_rate_limit`.\n",
      "\n",
      "Current values:\n",
      "ServerApp.iopub_data_rate_limit=1000000.0 (bytes/sec)\n",
      "ServerApp.rate_limit_window=3.0 (secs)\n",
      "\n"
     ]
    }
   ],
   "source": [
    "reviews = df_validation['tokenized_review']\n",
    "\n",
    "tokenized_reviews = [' '.join(nltk.word_tokenize(review)) for review in reviews]\n",
    "\n",
    "payload = {\"instances\" : tokenized_reviews}\n",
    "print(payload)"
   ]
  },
  {
   "cell_type": "code",
   "execution_count": 167,
   "id": "f80b291d-67e5-4914-a04d-902e0fef1a22",
   "metadata": {},
   "outputs": [
    {
     "name": "stdout",
     "output_type": "stream",
     "text": [
      "Done\n"
     ]
    },
    {
     "data": {
      "text/html": [
       "<div>\n",
       "<style scoped>\n",
       "    .dataframe tbody tr th:only-of-type {\n",
       "        vertical-align: middle;\n",
       "    }\n",
       "\n",
       "    .dataframe tbody tr th {\n",
       "        vertical-align: top;\n",
       "    }\n",
       "\n",
       "    .dataframe thead th {\n",
       "        text-align: right;\n",
       "    }\n",
       "</style>\n",
       "<table border=\"1\" class=\"dataframe\">\n",
       "  <thead>\n",
       "    <tr style=\"text-align: right;\">\n",
       "      <th></th>\n",
       "      <th>Predicted Label</th>\n",
       "      <th>True Label</th>\n",
       "    </tr>\n",
       "  </thead>\n",
       "  <tbody>\n",
       "    <tr>\n",
       "      <th>23905</th>\n",
       "      <td>[__label__1]</td>\n",
       "      <td>__label__0</td>\n",
       "    </tr>\n",
       "    <tr>\n",
       "      <th>14533</th>\n",
       "      <td>[__label__1]</td>\n",
       "      <td>__label__1</td>\n",
       "    </tr>\n",
       "    <tr>\n",
       "      <th>32294</th>\n",
       "      <td>[__label__0]</td>\n",
       "      <td>__label__1</td>\n",
       "    </tr>\n",
       "    <tr>\n",
       "      <th>7369</th>\n",
       "      <td>[__label__1]</td>\n",
       "      <td>__label__-1</td>\n",
       "    </tr>\n",
       "    <tr>\n",
       "      <th>683</th>\n",
       "      <td>[__label__1]</td>\n",
       "      <td>__label__1</td>\n",
       "    </tr>\n",
       "    <tr>\n",
       "      <th>...</th>\n",
       "      <td>...</td>\n",
       "      <td>...</td>\n",
       "    </tr>\n",
       "    <tr>\n",
       "      <th>9189</th>\n",
       "      <td>[__label__1]</td>\n",
       "      <td>__label__0</td>\n",
       "    </tr>\n",
       "    <tr>\n",
       "      <th>19629</th>\n",
       "      <td>[__label__0]</td>\n",
       "      <td>__label__0</td>\n",
       "    </tr>\n",
       "    <tr>\n",
       "      <th>18048</th>\n",
       "      <td>[__label__1]</td>\n",
       "      <td>__label__1</td>\n",
       "    </tr>\n",
       "    <tr>\n",
       "      <th>22886</th>\n",
       "      <td>[__label__1]</td>\n",
       "      <td>__label__1</td>\n",
       "    </tr>\n",
       "    <tr>\n",
       "      <th>8265</th>\n",
       "      <td>[__label__1]</td>\n",
       "      <td>__label__0</td>\n",
       "    </tr>\n",
       "  </tbody>\n",
       "</table>\n",
       "<p>3251 rows × 2 columns</p>\n",
       "</div>"
      ],
      "text/plain": [
       "      Predicted Label   True Label\n",
       "23905    [__label__1]   __label__0\n",
       "14533    [__label__1]   __label__1\n",
       "32294    [__label__0]   __label__1\n",
       "7369     [__label__1]  __label__-1\n",
       "683      [__label__1]   __label__1\n",
       "...               ...          ...\n",
       "9189     [__label__1]   __label__0\n",
       "19629    [__label__0]   __label__0\n",
       "18048    [__label__1]   __label__1\n",
       "22886    [__label__1]   __label__1\n",
       "8265     [__label__1]   __label__0\n",
       "\n",
       "[3251 rows x 2 columns]"
      ]
     },
     "execution_count": 167,
     "metadata": {},
     "output_type": "execute_result"
    }
   ],
   "source": [
    "predictions = text_classifier.predict(data=payload)\n",
    "pred_label = []\n",
    "\n",
    "for prediction in predictions:\n",
    "    pred_label.append(prediction['label'])  # Assuming the predicted label is stored in the 'label' key\n",
    "print('Done')\n",
    "\n",
    "\n",
    "pd.DataFrame({'Predicted Label': pred_label, 'True Label': df_validation['sentiment']})"
   ]
  },
  {
   "cell_type": "code",
   "execution_count": null,
   "id": "43961c24-e72d-4319-815c-76610157eb31",
   "metadata": {},
   "outputs": [],
   "source": []
  }
 ],
 "metadata": {
  "kernelspec": {
   "display_name": "Python 3 (ipykernel)",
   "language": "python",
   "name": "python3"
  },
  "language_info": {
   "codemirror_mode": {
    "name": "ipython",
    "version": 3
   },
   "file_extension": ".py",
   "mimetype": "text/x-python",
   "name": "python",
   "nbconvert_exporter": "python",
   "pygments_lexer": "ipython3",
   "version": "3.10.13"
  }
 },
 "nbformat": 4,
 "nbformat_minor": 5
}
