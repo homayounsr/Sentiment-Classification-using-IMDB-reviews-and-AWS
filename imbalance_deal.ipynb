{
 "cells": [
  {
   "cell_type": "code",
   "execution_count": 40,
   "metadata": {},
   "outputs": [],
   "source": [
    "from transformers import pipeline\n",
    "import pandas as pd\n",
    "from imblearn.over_sampling import RandomOverSampler\n",
    "import warnings\n",
    "warnings.simplefilter(\"ignore\")\n"
   ]
  },
  {
   "cell_type": "code",
   "execution_count": 24,
   "metadata": {},
   "outputs": [],
   "source": [
    "filtered_data = pd.read_csv('Data/Imbalance/df_clean_labeled_not_tokenized.csv')\n"
   ]
  },
  {
   "cell_type": "code",
   "execution_count": 49,
   "metadata": {},
   "outputs": [
    {
     "name": "stdout",
     "output_type": "stream",
     "text": [
      "Class distribution before oversampling:\n",
      "sentiment\n",
      " 1    15415\n",
      " 0    13016\n",
      "-1     4074\n",
      "Name: count, dtype: int64\n",
      "\n",
      "Class distribution after oversampling:\n",
      "sentiment\n",
      " 1    30830\n",
      " 0    28431\n",
      "-1    19489\n",
      "Name: count, dtype: int64\n"
     ]
    }
   ],
   "source": [
    "# Display class distribution before oversampling\n",
    "print(\"Class distribution before oversampling:\")\n",
    "print(filtered_data['sentiment'].value_counts())\n",
    "# Initialize the text generation pipeline using a pre-trained model (e.g., GPT-2)\n",
    "generator = pipeline(\"text-generation\", model=\"gpt2\")\n",
    "\n",
    "\n",
    "# Apply oversampling to balance the dataset\n",
    "oversampler = RandomOverSampler()\n",
    "X_resampled, y_resampled = oversampler.fit_resample(filtered_data[['clean_review']], filtered_data['sentiment'])\n",
    "\n",
    "# Combine the resampled data with the original data\n",
    "balanced_data = pd.concat([filtered_data, pd.DataFrame({'clean_review': X_resampled.squeeze(), 'sentiment': y_resampled})])\n",
    "\n",
    "# Display class distribution after oversampling\n",
    "print(\"\\nClass distribution after oversampling:\")\n",
    "print(balanced_data['sentiment'].value_counts())\n",
    "\n",
    "balanced_data.to_csv('balanced_data.csv', index=False)"
   ]
  }
 ],
 "metadata": {
  "kernelspec": {
   "display_name": "base",
   "language": "python",
   "name": "python3"
  },
  "language_info": {
   "codemirror_mode": {
    "name": "ipython",
    "version": 3
   },
   "file_extension": ".py",
   "mimetype": "text/x-python",
   "name": "python",
   "nbconvert_exporter": "python",
   "pygments_lexer": "ipython3",
   "version": "3.11.5"
  }
 },
 "nbformat": 4,
 "nbformat_minor": 2
}
